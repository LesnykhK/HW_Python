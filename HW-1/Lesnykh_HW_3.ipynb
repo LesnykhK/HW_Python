{
 "cells": [
  {
   "cell_type": "markdown",
   "metadata": {},
   "source": [
    "# Загрузка и обработка базы данных для дальнейшего анализа"
   ]
  },
  {
   "cell_type": "code",
   "execution_count": 1,
   "metadata": {},
   "outputs": [
    {
     "data": {
      "text/html": [
       "<div>\n",
       "<style scoped>\n",
       "    .dataframe tbody tr th:only-of-type {\n",
       "        vertical-align: middle;\n",
       "    }\n",
       "\n",
       "    .dataframe tbody tr th {\n",
       "        vertical-align: top;\n",
       "    }\n",
       "\n",
       "    .dataframe thead th {\n",
       "        text-align: right;\n",
       "    }\n",
       "</style>\n",
       "<table border=\"1\" class=\"dataframe\">\n",
       "  <thead>\n",
       "    <tr style=\"text-align: right;\">\n",
       "      <th></th>\n",
       "      <th>ASVAB01</th>\n",
       "      <th>ASVAB02</th>\n",
       "      <th>ASVAB03</th>\n",
       "      <th>ASVAB04</th>\n",
       "      <th>ASVAB05</th>\n",
       "      <th>ASVAB06</th>\n",
       "      <th>ASVABC</th>\n",
       "      <th>HEIGHT</th>\n",
       "      <th>WEIGHT85</th>\n",
       "      <th>WEIGHT02</th>\n",
       "      <th>...</th>\n",
       "      <th>EDUCHSD</th>\n",
       "      <th>EDUCDO</th>\n",
       "      <th>SINGLE</th>\n",
       "      <th>MARRIED</th>\n",
       "      <th>DIVORCED</th>\n",
       "      <th>FAITHN</th>\n",
       "      <th>FAITHP</th>\n",
       "      <th>FAITHC</th>\n",
       "      <th>FAITHJ</th>\n",
       "      <th>FAITHO</th>\n",
       "    </tr>\n",
       "  </thead>\n",
       "  <tbody>\n",
       "    <tr>\n",
       "      <th>0</th>\n",
       "      <td>25</td>\n",
       "      <td>34</td>\n",
       "      <td>31</td>\n",
       "      <td>22</td>\n",
       "      <td>26</td>\n",
       "      <td>34</td>\n",
       "      <td>30.25</td>\n",
       "      <td>70.0</td>\n",
       "      <td>145</td>\n",
       "      <td>204</td>\n",
       "      <td>...</td>\n",
       "      <td>1</td>\n",
       "      <td>0</td>\n",
       "      <td>0</td>\n",
       "      <td>1</td>\n",
       "      <td>0</td>\n",
       "      <td>0</td>\n",
       "      <td>0</td>\n",
       "      <td>0</td>\n",
       "      <td>0</td>\n",
       "      <td>1</td>\n",
       "    </tr>\n",
       "    <tr>\n",
       "      <th>1</th>\n",
       "      <td>56</td>\n",
       "      <td>43</td>\n",
       "      <td>48</td>\n",
       "      <td>47</td>\n",
       "      <td>52</td>\n",
       "      <td>59</td>\n",
       "      <td>45.25</td>\n",
       "      <td>71.0</td>\n",
       "      <td>136</td>\n",
       "      <td>178</td>\n",
       "      <td>...</td>\n",
       "      <td>1</td>\n",
       "      <td>0</td>\n",
       "      <td>1</td>\n",
       "      <td>0</td>\n",
       "      <td>0</td>\n",
       "      <td>0</td>\n",
       "      <td>0</td>\n",
       "      <td>1</td>\n",
       "      <td>0</td>\n",
       "      <td>0</td>\n",
       "    </tr>\n",
       "    <tr>\n",
       "      <th>2</th>\n",
       "      <td>53</td>\n",
       "      <td>49</td>\n",
       "      <td>49</td>\n",
       "      <td>51</td>\n",
       "      <td>38</td>\n",
       "      <td>42</td>\n",
       "      <td>49.50</td>\n",
       "      <td>70.0</td>\n",
       "      <td>169</td>\n",
       "      <td>196</td>\n",
       "      <td>...</td>\n",
       "      <td>1</td>\n",
       "      <td>0</td>\n",
       "      <td>0</td>\n",
       "      <td>1</td>\n",
       "      <td>0</td>\n",
       "      <td>0</td>\n",
       "      <td>1</td>\n",
       "      <td>0</td>\n",
       "      <td>0</td>\n",
       "      <td>0</td>\n",
       "    </tr>\n",
       "    <tr>\n",
       "      <th>3</th>\n",
       "      <td>57</td>\n",
       "      <td>37</td>\n",
       "      <td>43</td>\n",
       "      <td>39</td>\n",
       "      <td>34</td>\n",
       "      <td>30</td>\n",
       "      <td>39.00</td>\n",
       "      <td>70.0</td>\n",
       "      <td>166</td>\n",
       "      <td>182</td>\n",
       "      <td>...</td>\n",
       "      <td>1</td>\n",
       "      <td>0</td>\n",
       "      <td>0</td>\n",
       "      <td>1</td>\n",
       "      <td>0</td>\n",
       "      <td>0</td>\n",
       "      <td>1</td>\n",
       "      <td>0</td>\n",
       "      <td>0</td>\n",
       "      <td>0</td>\n",
       "    </tr>\n",
       "    <tr>\n",
       "      <th>4</th>\n",
       "      <td>57</td>\n",
       "      <td>51</td>\n",
       "      <td>59</td>\n",
       "      <td>53</td>\n",
       "      <td>41</td>\n",
       "      <td>45</td>\n",
       "      <td>53.50</td>\n",
       "      <td>70.0</td>\n",
       "      <td>175</td>\n",
       "      <td>222</td>\n",
       "      <td>...</td>\n",
       "      <td>1</td>\n",
       "      <td>0</td>\n",
       "      <td>0</td>\n",
       "      <td>1</td>\n",
       "      <td>0</td>\n",
       "      <td>0</td>\n",
       "      <td>0</td>\n",
       "      <td>1</td>\n",
       "      <td>0</td>\n",
       "      <td>0</td>\n",
       "    </tr>\n",
       "  </tbody>\n",
       "</table>\n",
       "<p>5 rows × 51 columns</p>\n",
       "</div>"
      ],
      "text/plain": [
       "   ASVAB01  ASVAB02  ASVAB03  ASVAB04  ASVAB05  ASVAB06  ASVABC  HEIGHT  \\\n",
       "0       25       34       31       22       26       34   30.25    70.0   \n",
       "1       56       43       48       47       52       59   45.25    71.0   \n",
       "2       53       49       49       51       38       42   49.50    70.0   \n",
       "3       57       37       43       39       34       30   39.00    70.0   \n",
       "4       57       51       59       53       41       45   53.50    70.0   \n",
       "\n",
       "   WEIGHT85  WEIGHT02   ...    EDUCHSD  EDUCDO  SINGLE  MARRIED  DIVORCED  \\\n",
       "0       145       204   ...          1       0       0        1         0   \n",
       "1       136       178   ...          1       0       1        0         0   \n",
       "2       169       196   ...          1       0       0        1         0   \n",
       "3       166       182   ...          1       0       0        1         0   \n",
       "4       175       222   ...          1       0       0        1         0   \n",
       "\n",
       "   FAITHN  FAITHP  FAITHC  FAITHJ  FAITHO  \n",
       "0       0       0       0       0       1  \n",
       "1       0       0       1       0       0  \n",
       "2       0       1       0       0       0  \n",
       "3       0       1       0       0       0  \n",
       "4       0       0       1       0       0  \n",
       "\n",
       "[5 rows x 51 columns]"
      ]
     },
     "execution_count": 1,
     "metadata": {},
     "output_type": "execute_result"
    }
   ],
   "source": [
    "# Загрузка и обработка базы данных для дальнейшего анализа\n",
    "\n",
    "from pandas import read_csv\n",
    "from numpy import set_printoptions\n",
    "from sklearn.preprocessing import MinMaxScaler\n",
    "Base = read_csv(\"Dougherty_data_18.csv\",  header=0, sep=';',  decimal=',', na_values='?')\n",
    "Base.head()"
   ]
  },
  {
   "cell_type": "code",
   "execution_count": 2,
   "metadata": {
    "scrolled": true
   },
   "outputs": [
    {
     "data": {
      "text/html": [
       "<div>\n",
       "<style scoped>\n",
       "    .dataframe tbody tr th:only-of-type {\n",
       "        vertical-align: middle;\n",
       "    }\n",
       "\n",
       "    .dataframe tbody tr th {\n",
       "        vertical-align: top;\n",
       "    }\n",
       "\n",
       "    .dataframe thead th {\n",
       "        text-align: right;\n",
       "    }\n",
       "</style>\n",
       "<table border=\"1\" class=\"dataframe\">\n",
       "  <thead>\n",
       "    <tr style=\"text-align: right;\">\n",
       "      <th></th>\n",
       "      <th>ASVAB01</th>\n",
       "      <th>ASVAB02</th>\n",
       "      <th>ASVAB03</th>\n",
       "      <th>ASVAB04</th>\n",
       "      <th>ASVAB05</th>\n",
       "      <th>ASVAB06</th>\n",
       "      <th>ASVABC</th>\n",
       "      <th>HEIGHT</th>\n",
       "      <th>WEIGHT85</th>\n",
       "      <th>WEIGHT02</th>\n",
       "      <th>...</th>\n",
       "      <th>EDUCHSD</th>\n",
       "      <th>EDUCDO</th>\n",
       "      <th>SINGLE</th>\n",
       "      <th>MARRIED</th>\n",
       "      <th>DIVORCED</th>\n",
       "      <th>FAITHN</th>\n",
       "      <th>FAITHP</th>\n",
       "      <th>FAITHC</th>\n",
       "      <th>FAITHJ</th>\n",
       "      <th>FAITHO</th>\n",
       "    </tr>\n",
       "  </thead>\n",
       "  <tbody>\n",
       "    <tr>\n",
       "      <th>0</th>\n",
       "      <td>25</td>\n",
       "      <td>34</td>\n",
       "      <td>31</td>\n",
       "      <td>22</td>\n",
       "      <td>26</td>\n",
       "      <td>34</td>\n",
       "      <td>30.25</td>\n",
       "      <td>70.0</td>\n",
       "      <td>145</td>\n",
       "      <td>204</td>\n",
       "      <td>...</td>\n",
       "      <td>1</td>\n",
       "      <td>0</td>\n",
       "      <td>0</td>\n",
       "      <td>1</td>\n",
       "      <td>0</td>\n",
       "      <td>0</td>\n",
       "      <td>0</td>\n",
       "      <td>0</td>\n",
       "      <td>0</td>\n",
       "      <td>1</td>\n",
       "    </tr>\n",
       "    <tr>\n",
       "      <th>1</th>\n",
       "      <td>56</td>\n",
       "      <td>43</td>\n",
       "      <td>48</td>\n",
       "      <td>47</td>\n",
       "      <td>52</td>\n",
       "      <td>59</td>\n",
       "      <td>45.25</td>\n",
       "      <td>71.0</td>\n",
       "      <td>136</td>\n",
       "      <td>178</td>\n",
       "      <td>...</td>\n",
       "      <td>1</td>\n",
       "      <td>0</td>\n",
       "      <td>1</td>\n",
       "      <td>0</td>\n",
       "      <td>0</td>\n",
       "      <td>0</td>\n",
       "      <td>0</td>\n",
       "      <td>1</td>\n",
       "      <td>0</td>\n",
       "      <td>0</td>\n",
       "    </tr>\n",
       "    <tr>\n",
       "      <th>2</th>\n",
       "      <td>53</td>\n",
       "      <td>49</td>\n",
       "      <td>49</td>\n",
       "      <td>51</td>\n",
       "      <td>38</td>\n",
       "      <td>42</td>\n",
       "      <td>49.50</td>\n",
       "      <td>70.0</td>\n",
       "      <td>169</td>\n",
       "      <td>196</td>\n",
       "      <td>...</td>\n",
       "      <td>1</td>\n",
       "      <td>0</td>\n",
       "      <td>0</td>\n",
       "      <td>1</td>\n",
       "      <td>0</td>\n",
       "      <td>0</td>\n",
       "      <td>1</td>\n",
       "      <td>0</td>\n",
       "      <td>0</td>\n",
       "      <td>0</td>\n",
       "    </tr>\n",
       "    <tr>\n",
       "      <th>3</th>\n",
       "      <td>57</td>\n",
       "      <td>37</td>\n",
       "      <td>43</td>\n",
       "      <td>39</td>\n",
       "      <td>34</td>\n",
       "      <td>30</td>\n",
       "      <td>39.00</td>\n",
       "      <td>70.0</td>\n",
       "      <td>166</td>\n",
       "      <td>182</td>\n",
       "      <td>...</td>\n",
       "      <td>1</td>\n",
       "      <td>0</td>\n",
       "      <td>0</td>\n",
       "      <td>1</td>\n",
       "      <td>0</td>\n",
       "      <td>0</td>\n",
       "      <td>1</td>\n",
       "      <td>0</td>\n",
       "      <td>0</td>\n",
       "      <td>0</td>\n",
       "    </tr>\n",
       "    <tr>\n",
       "      <th>4</th>\n",
       "      <td>57</td>\n",
       "      <td>51</td>\n",
       "      <td>59</td>\n",
       "      <td>53</td>\n",
       "      <td>41</td>\n",
       "      <td>45</td>\n",
       "      <td>53.50</td>\n",
       "      <td>70.0</td>\n",
       "      <td>175</td>\n",
       "      <td>222</td>\n",
       "      <td>...</td>\n",
       "      <td>1</td>\n",
       "      <td>0</td>\n",
       "      <td>0</td>\n",
       "      <td>1</td>\n",
       "      <td>0</td>\n",
       "      <td>0</td>\n",
       "      <td>0</td>\n",
       "      <td>1</td>\n",
       "      <td>0</td>\n",
       "      <td>0</td>\n",
       "    </tr>\n",
       "  </tbody>\n",
       "</table>\n",
       "<p>5 rows × 51 columns</p>\n",
       "</div>"
      ],
      "text/plain": [
       "   ASVAB01  ASVAB02  ASVAB03  ASVAB04  ASVAB05  ASVAB06  ASVABC  HEIGHT  \\\n",
       "0       25       34       31       22       26       34   30.25    70.0   \n",
       "1       56       43       48       47       52       59   45.25    71.0   \n",
       "2       53       49       49       51       38       42   49.50    70.0   \n",
       "3       57       37       43       39       34       30   39.00    70.0   \n",
       "4       57       51       59       53       41       45   53.50    70.0   \n",
       "\n",
       "   WEIGHT85  WEIGHT02   ...    EDUCHSD  EDUCDO  SINGLE  MARRIED  DIVORCED  \\\n",
       "0       145       204   ...          1       0       0        1         0   \n",
       "1       136       178   ...          1       0       1        0         0   \n",
       "2       169       196   ...          1       0       0        1         0   \n",
       "3       166       182   ...          1       0       0        1         0   \n",
       "4       175       222   ...          1       0       0        1         0   \n",
       "\n",
       "   FAITHN  FAITHP  FAITHC  FAITHJ  FAITHO  \n",
       "0       0       0       0       0       1  \n",
       "1       0       0       1       0       0  \n",
       "2       0       1       0       0       0  \n",
       "3       0       1       0       0       0  \n",
       "4       0       0       1       0       0  \n",
       "\n",
       "[5 rows x 51 columns]"
      ]
     },
     "execution_count": 2,
     "metadata": {},
     "output_type": "execute_result"
    }
   ],
   "source": [
    "Base = Base.fillna(Base.median(axis=0), axis=0)\n",
    "Base.head()"
   ]
  },
  {
   "cell_type": "markdown",
   "metadata": {},
   "source": [
    "# Построение линейных регрессий"
   ]
  },
  {
   "cell_type": "code",
   "execution_count": 3,
   "metadata": {},
   "outputs": [
    {
     "name": "stdout",
     "output_type": "stream",
     "text": [
      "                            OLS Regression Results                            \n",
      "==============================================================================\n",
      "Dep. Variable:               EARNINGS   R-squared:                       0.241\n",
      "Model:                            OLS   Adj. R-squared:                  0.235\n",
      "Method:                 Least Squares   F-statistic:                     42.43\n",
      "Date:                Sun, 23 Dec 2018   Prob (F-statistic):           6.43e-31\n",
      "Time:                        16:46:07   Log-Likelihood:                -2137.8\n",
      "No. Observations:                 540   AIC:                             4286.\n",
      "Df Residuals:                     535   BIC:                             4307.\n",
      "Df Model:                           4                                         \n",
      "Covariance Type:            nonrobust                                         \n",
      "==============================================================================\n",
      "                 coef    std err          t      P>|t|      [0.025      0.975]\n",
      "------------------------------------------------------------------------------\n",
      "Intercept    -32.2684     12.826     -2.516      0.012     -57.465      -7.072\n",
      "S              2.5365      0.226     11.202      0.000       2.092       2.981\n",
      "HEIGHT         0.1049      0.193      0.542      0.588      -0.275       0.485\n",
      "MALE           5.6873      1.577      3.606      0.000       2.589       8.786\n",
      "W_EXP          0.4354      0.137      3.186      0.002       0.167       0.704\n",
      "==============================================================================\n",
      "Omnibus:                      402.350   Durbin-Watson:                   2.166\n",
      "Prob(Omnibus):                  0.000   Jarque-Bera (JB):             7519.825\n",
      "Skew:                           3.092   Prob(JB):                         0.00\n",
      "Kurtosis:                      20.204   Cond. No.                     1.66e+03\n",
      "==============================================================================\n",
      "\n",
      "Warnings:\n",
      "[1] Standard Errors assume that the covariance matrix of the errors is correctly specified.\n",
      "[2] The condition number is large, 1.66e+03. This might indicate that there are\n",
      "strong multicollinearity or other numerical problems.\n"
     ]
    }
   ],
   "source": [
    "%matplotlib inline\n",
    "from IPython.display import Image\n",
    "import matplotlib.pyplot as plt\n",
    "import seaborn as sns\n",
    "from __future__ import print_function\n",
    "from statsmodels.compat import lzip\n",
    "import statsmodels\n",
    "import numpy as np\n",
    "import pandas as pd\n",
    "import statsmodels.formula.api as smf\n",
    "import statsmodels.stats.api as sms\n",
    "import matplotlib.pyplot as plt\n",
    "\n",
    "lm1 = smf.ols('EARNINGS ~ S + HEIGHT + MALE + W_EXP', data=Base).fit()\n",
    "\n",
    "print(lm1.summary())"
   ]
  },
  {
   "cell_type": "code",
   "execution_count": 4,
   "metadata": {},
   "outputs": [
    {
     "name": "stdout",
     "output_type": "stream",
     "text": [
      "                            OLS Regression Results                            \n",
      "==============================================================================\n",
      "Dep. Variable:               EARNINGS   R-squared:                       0.240\n",
      "Model:                            OLS   Adj. R-squared:                  0.236\n",
      "Method:                 Least Squares   F-statistic:                     56.55\n",
      "Date:                Sun, 23 Dec 2018   Prob (F-statistic):           9.05e-32\n",
      "Time:                        16:46:10   Log-Likelihood:                -2137.9\n",
      "No. Observations:                 540   AIC:                             4284.\n",
      "Df Residuals:                     536   BIC:                             4301.\n",
      "Df Model:                           3                                         \n",
      "Covariance Type:            nonrobust                                         \n",
      "==============================================================================\n",
      "                 coef    std err          t      P>|t|      [0.025      0.975]\n",
      "------------------------------------------------------------------------------\n",
      "Intercept    -25.7314      4.379     -5.876      0.000     -34.334     -17.129\n",
      "S              2.5475      0.225     11.305      0.000       2.105       2.990\n",
      "MALE           6.2942      1.111      5.667      0.000       4.112       8.476\n",
      "W_EXP          0.4395      0.136      3.223      0.001       0.172       0.707\n",
      "==============================================================================\n",
      "Omnibus:                      402.121   Durbin-Watson:                   2.168\n",
      "Prob(Omnibus):                  0.000   Jarque-Bera (JB):             7514.428\n",
      "Skew:                           3.089   Prob(JB):                         0.00\n",
      "Kurtosis:                      20.199   Cond. No.                         177.\n",
      "==============================================================================\n",
      "\n",
      "Warnings:\n",
      "[1] Standard Errors assume that the covariance matrix of the errors is correctly specified.\n"
     ]
    }
   ],
   "source": [
    "lm2 = smf.ols('EARNINGS ~ S + MALE + W_EXP', data=Base).fit()\n",
    "print(lm2.summary())"
   ]
  },
  {
   "cell_type": "code",
   "execution_count": 5,
   "metadata": {},
   "outputs": [
    {
     "name": "stdout",
     "output_type": "stream",
     "text": [
      "                            OLS Regression Results                            \n",
      "==============================================================================\n",
      "Dep. Variable:               EARNINGS   R-squared:                       0.063\n",
      "Model:                            OLS   Adj. R-squared:                  0.059\n",
      "Method:                 Least Squares   F-statistic:                     17.94\n",
      "Date:                Sun, 23 Dec 2018   Prob (F-statistic):           2.88e-08\n",
      "Time:                        16:46:13   Log-Likelihood:                -2194.7\n",
      "No. Observations:                 540   AIC:                             4395.\n",
      "Df Residuals:                     537   BIC:                             4408.\n",
      "Df Model:                           2                                         \n",
      "Covariance Type:            nonrobust                                         \n",
      "==============================================================================\n",
      "                 coef    std err          t      P>|t|      [0.025      0.975]\n",
      "------------------------------------------------------------------------------\n",
      "Intercept     -3.0824     13.780     -0.224      0.823     -30.151      23.987\n",
      "HEIGHT         0.2990      0.214      1.400      0.162      -0.121       0.719\n",
      "MALE           5.3334      1.743      3.061      0.002       1.910       8.757\n",
      "==============================================================================\n",
      "Omnibus:                      393.361   Durbin-Watson:                   1.922\n",
      "Prob(Omnibus):                  0.000   Jarque-Bera (JB):             5878.968\n",
      "Skew:                           3.089   Prob(JB):                         0.00\n",
      "Kurtosis:                      17.937   Cond. No.                     1.53e+03\n",
      "==============================================================================\n",
      "\n",
      "Warnings:\n",
      "[1] Standard Errors assume that the covariance matrix of the errors is correctly specified.\n",
      "[2] The condition number is large, 1.53e+03. This might indicate that there are\n",
      "strong multicollinearity or other numerical problems.\n"
     ]
    }
   ],
   "source": [
    "lm3 = smf.ols('EARNINGS ~ HEIGHT + MALE', data=Base).fit()\n",
    "print(lm3.summary())"
   ]
  },
  {
   "cell_type": "code",
   "execution_count": 6,
   "metadata": {
    "scrolled": false
   },
   "outputs": [
    {
     "name": "stdout",
     "output_type": "stream",
     "text": [
      "                            OLS Regression Results                            \n",
      "==============================================================================\n",
      "Dep. Variable:               EARNINGS   R-squared:                       0.195\n",
      "Model:                            OLS   Adj. R-squared:                  0.192\n",
      "Method:                 Least Squares   F-statistic:                     65.00\n",
      "Date:                Sun, 23 Dec 2018   Prob (F-statistic):           5.26e-26\n",
      "Time:                        16:46:15   Log-Likelihood:                -2153.6\n",
      "No. Observations:                 540   AIC:                             4313.\n",
      "Df Residuals:                     537   BIC:                             4326.\n",
      "Df Model:                           2                                         \n",
      "Covariance Type:            nonrobust                                         \n",
      "==============================================================================\n",
      "                 coef    std err          t      P>|t|      [0.025      0.975]\n",
      "------------------------------------------------------------------------------\n",
      "Intercept    -25.8913      4.504     -5.749      0.000     -34.739     -17.044\n",
      "S              2.6317      0.231     11.379      0.000       2.177       3.086\n",
      "W_EXP          0.5665      0.138      4.095      0.000       0.295       0.838\n",
      "==============================================================================\n",
      "Omnibus:                      411.141   Durbin-Watson:                   2.057\n",
      "Prob(Omnibus):                  0.000   Jarque-Bera (JB):             7953.946\n",
      "Skew:                           3.179   Prob(JB):                         0.00\n",
      "Kurtosis:                      20.694   Cond. No.                         177.\n",
      "==============================================================================\n",
      "\n",
      "Warnings:\n",
      "[1] Standard Errors assume that the covariance matrix of the errors is correctly specified.\n"
     ]
    }
   ],
   "source": [
    "lm4 = smf.ols(\"EARNINGS ~ S + W_EXP\", data=Base).fit()\n",
    "print(lm4.summary())"
   ]
  },
  {
   "cell_type": "markdown",
   "metadata": {},
   "source": [
    "# Перекодирование интервальной переменной в дихотомическую"
   ]
  },
  {
   "cell_type": "code",
   "execution_count": 8,
   "metadata": {
    "scrolled": true
   },
   "outputs": [
    {
     "name": "stderr",
     "output_type": "stream",
     "text": [
      "/anaconda3/lib/python3.7/site-packages/ipykernel_launcher.py:6: SettingWithCopyWarning: \n",
      "A value is trying to be set on a copy of a slice from a DataFrame\n",
      "\n",
      "See the caveats in the documentation: http://pandas.pydata.org/pandas-docs/stable/indexing.html#indexing-view-versus-copy\n",
      "  \n",
      "/anaconda3/lib/python3.7/site-packages/ipykernel_launcher.py:4: SettingWithCopyWarning: \n",
      "A value is trying to be set on a copy of a slice from a DataFrame\n",
      "\n",
      "See the caveats in the documentation: http://pandas.pydata.org/pandas-docs/stable/indexing.html#indexing-view-versus-copy\n",
      "  after removing the cwd from sys.path.\n"
     ]
    },
    {
     "data": {
      "text/html": [
       "<div>\n",
       "<style scoped>\n",
       "    .dataframe tbody tr th:only-of-type {\n",
       "        vertical-align: middle;\n",
       "    }\n",
       "\n",
       "    .dataframe tbody tr th {\n",
       "        vertical-align: top;\n",
       "    }\n",
       "\n",
       "    .dataframe thead th {\n",
       "        text-align: right;\n",
       "    }\n",
       "</style>\n",
       "<table border=\"1\" class=\"dataframe\">\n",
       "  <thead>\n",
       "    <tr style=\"text-align: right;\">\n",
       "      <th></th>\n",
       "      <th>EARNdich</th>\n",
       "      <th>EARNINGS</th>\n",
       "    </tr>\n",
       "  </thead>\n",
       "  <tbody>\n",
       "    <tr>\n",
       "      <th>0</th>\n",
       "      <td>0</td>\n",
       "      <td>9.10</td>\n",
       "    </tr>\n",
       "    <tr>\n",
       "      <th>1</th>\n",
       "      <td>0</td>\n",
       "      <td>10.00</td>\n",
       "    </tr>\n",
       "    <tr>\n",
       "      <th>2</th>\n",
       "      <td>1</td>\n",
       "      <td>20.60</td>\n",
       "    </tr>\n",
       "    <tr>\n",
       "      <th>3</th>\n",
       "      <td>0</td>\n",
       "      <td>9.97</td>\n",
       "    </tr>\n",
       "    <tr>\n",
       "      <th>4</th>\n",
       "      <td>0</td>\n",
       "      <td>12.40</td>\n",
       "    </tr>\n",
       "  </tbody>\n",
       "</table>\n",
       "</div>"
      ],
      "text/plain": [
       "   EARNdich  EARNINGS\n",
       "0         0      9.10\n",
       "1         0     10.00\n",
       "2         1     20.60\n",
       "3         0      9.97\n",
       "4         0     12.40"
      ]
     },
     "execution_count": 8,
     "metadata": {},
     "output_type": "execute_result"
    }
   ],
   "source": [
    "Base[\"EARNdich\"] = 0\n",
    "for i in range(len(Base[\"EARNdich\"])):\n",
    "    if (Base[\"EARNINGS\"])[i] > np.median(Base[\"EARNINGS\"]):\n",
    "        (Base[\"EARNdich\"])[i] = 1\n",
    "    else:\n",
    "        (Base[\"EARNdich\"])[i] = 0\n",
    "Base[[\"EARNdich\", \"EARNINGS\"]].head()"
   ]
  },
  {
   "cell_type": "code",
   "execution_count": 9,
   "metadata": {},
   "outputs": [
    {
     "data": {
      "text/plain": [
       "16.005000000000003"
      ]
     },
     "execution_count": 9,
     "metadata": {},
     "output_type": "execute_result"
    }
   ],
   "source": [
    "np.median(Base[\"EARNINGS\"])"
   ]
  },
  {
   "cell_type": "markdown",
   "metadata": {},
   "source": [
    "# Логистические регрессии"
   ]
  },
  {
   "cell_type": "code",
   "execution_count": 10,
   "metadata": {
    "scrolled": true
   },
   "outputs": [
    {
     "name": "stdout",
     "output_type": "stream",
     "text": [
      "Class labels: [0 1]\n"
     ]
    }
   ],
   "source": [
    "from sklearn import datasets\n",
    "from distutils.version import LooseVersion\n",
    "\n",
    "X = np.array(Base[[\"S\", 'W_EXP']])\n",
    "Y = np.array(Base[\"EARNdich\"])\n",
    "\n",
    "print('Class labels:', np.unique(Y))"
   ]
  },
  {
   "cell_type": "code",
   "execution_count": 11,
   "metadata": {},
   "outputs": [],
   "source": [
    "from sklearn.model_selection import train_test_split\n",
    "\n",
    "X_train, X_test, Y_train, Y_test = train_test_split(\n",
    "    X, Y, test_size=0.3, random_state=1, stratify=Y)"
   ]
  },
  {
   "cell_type": "code",
   "execution_count": 12,
   "metadata": {},
   "outputs": [
    {
     "name": "stdout",
     "output_type": "stream",
     "text": [
      "Labels counts in y: [273 267]\n",
      "Labels counts in y_train: [191 187]\n",
      "Labels counts in y_test: [82 80]\n"
     ]
    }
   ],
   "source": [
    "print('Labels counts in y:', np.bincount(Y))\n",
    "print('Labels counts in y_train:', np.bincount(Y_train))\n",
    "print('Labels counts in y_test:', np.bincount(Y_test))"
   ]
  },
  {
   "cell_type": "code",
   "execution_count": 13,
   "metadata": {},
   "outputs": [],
   "source": [
    "# Стандартизирование независимых переменных\n",
    "\n",
    "from sklearn.preprocessing import StandardScaler\n",
    "\n",
    "sc = StandardScaler()\n",
    "sc.fit(X_train)\n",
    "X_train_std = sc.transform(X_train)\n",
    "X_test_std = sc.transform(X_test)\n",
    "\n",
    "X_combined_std = np.vstack((X_train_std, X_test_std))\n",
    "Y_combined = np.hstack((Y_train, Y_test))"
   ]
  },
  {
   "cell_type": "code",
   "execution_count": 14,
   "metadata": {},
   "outputs": [],
   "source": [
    "from matplotlib.colors import ListedColormap\n",
    "import matplotlib.pyplot as plt\n",
    "\n",
    "\n",
    "def plot_decision_regions(X, y, classifier, test_idx=None, resolution=0.02):\n",
    "\n",
    "    \n",
    "    markers = ('s', 'x', 'o', '^', 'v')\n",
    "    colors = ('red', 'blue', 'lightgreen', 'gray', 'cyan')\n",
    "    cmap = ListedColormap(colors[:len(np.unique(y))])\n",
    "\n",
    "    \n",
    "    x1_min, x1_max = X[:, 0].min() - 1, X[:, 0].max() + 1\n",
    "    x2_min, x2_max = X[:, 1].min() - 1, X[:, 1].max() + 1\n",
    "    xx1, xx2 = np.meshgrid(np.arange(x1_min, x1_max, resolution),\n",
    "                           np.arange(x2_min, x2_max, resolution))\n",
    "    Z = classifier.predict(np.array([xx1.ravel(), xx2.ravel()]).T)\n",
    "    Z = Z.reshape(xx1.shape)\n",
    "    plt.contourf(xx1, xx2, Z, alpha=0.3, cmap=cmap)\n",
    "    plt.xlim(xx1.min(), xx1.max())\n",
    "    plt.ylim(xx2.min(), xx2.max())\n",
    "\n",
    "    for idx, cl in enumerate(np.unique(y)):\n",
    "        plt.scatter(x=X[y == cl, 0], \n",
    "                    y=X[y == cl, 1],\n",
    "                    alpha=0.8, \n",
    "                    c=colors[idx],\n",
    "                    marker=markers[idx], \n",
    "                    label=cl, \n",
    "                    edgecolor='black')\n",
    "\n",
    "    \n",
    "    if test_idx:\n",
    "        \n",
    "        X_test, y_test = X[test_idx, :], y[test_idx]\n",
    "\n",
    "        plt.scatter(X_test[:, 0],\n",
    "                    X_test[:, 1],\n",
    "                    c='',\n",
    "                    edgecolor='black',\n",
    "                    alpha=1.0,\n",
    "                    linewidth=1,\n",
    "                    marker='o',\n",
    "                    s=100, \n",
    "                    label='test set')"
   ]
  },
  {
   "cell_type": "code",
   "execution_count": 15,
   "metadata": {},
   "outputs": [],
   "source": [
    "class LogisticRegressionGD(object):\n",
    "  \n",
    "    def __init__(self, eta=0.05, n_iter=100, random_state=1):\n",
    "        self.eta = eta\n",
    "        self.n_iter = n_iter\n",
    "        self.random_state = random_state\n",
    "\n",
    "    def fit(self, X, y):\n",
    "    \n",
    "        rgen = np.random.RandomState(self.random_state)\n",
    "        self.w_ = rgen.normal(loc=0.0, scale=0.01, size=1 + X.shape[1])\n",
    "        self.cost_ = []\n",
    "\n",
    "        for i in range(self.n_iter):\n",
    "            net_input = self.net_input(X)\n",
    "            output = self.activation(net_input)\n",
    "            errors = (y - output)\n",
    "            self.w_[1:] += self.eta * X.T.dot(errors)\n",
    "            self.w_[0] += self.eta * errors.sum()\n",
    "            \n",
    "           \n",
    "            cost = -y.dot(np.log(output)) - ((1 - y).dot(np.log(1 - output)))\n",
    "            self.cost_.append(cost)\n",
    "        return self\n",
    "    \n",
    "    def net_input(self, X):\n",
    "  \n",
    "        return np.dot(X, self.w_[1:]) + self.w_[0]\n",
    "\n",
    "    def activation(self, z):\n",
    "        \n",
    "        return 1. / (1. + np.exp(-np.clip(z, -250, 250)))\n",
    "\n",
    "    def predict(self, X):\n",
    "        \n",
    "        return np.where(self.net_input(X) >= 0.0, 1, 0)"
   ]
  },
  {
   "cell_type": "code",
   "execution_count": 16,
   "metadata": {},
   "outputs": [
    {
     "data": {
      "image/png": "[encoded data removed]",
      "text/plain": [
       "<Figure size 432x288 with 1 Axes>"
      ]
     },
     "metadata": {
      "needs_background": "light"
     },
     "output_type": "display_data"
    }
   ],
   "source": [
    "# Построение модели логистической переменной\n",
    "\n",
    "from sklearn.linear_model import LogisticRegression\n",
    "\n",
    "\n",
    "lr = LogisticRegression(C=100.0, random_state=1)\n",
    "lr.fit(X_train_std, Y_train)\n",
    "\n",
    "plot_decision_regions(X_combined_std, Y_combined,\n",
    "                      classifier=lr, test_idx=range(105, 150))\n",
    "plt.xlabel('Years of schooling [standardized]')\n",
    "plt.ylabel('Total out-of-school work experience [standardized]')\n",
    "plt.legend(loc='lower left')\n",
    "plt.tight_layout()\n",
    "plt.show()"
   ]
  },
  {
   "cell_type": "code",
   "execution_count": 17,
   "metadata": {},
   "outputs": [
    {
     "data": {
      "text/plain": [
       "array([[1.08550588, 0.5740273 ]])"
      ]
     },
     "execution_count": 17,
     "metadata": {},
     "output_type": "execute_result"
    }
   ],
   "source": [
    "lr.coef_"
   ]
  },
  {
   "cell_type": "code",
   "execution_count": 18,
   "metadata": {},
   "outputs": [
    {
     "data": {
      "text/plain": [
       "array([[0.34298689, 0.65701311],\n",
       "       [0.88269853, 0.11730147],\n",
       "       [0.5304203 , 0.4695797 ],\n",
       "       [0.37503473, 0.62496527],\n",
       "       [0.32737603, 0.67262397],\n",
       "       [0.9025576 , 0.0974424 ],\n",
       "       [0.98676816, 0.01323184],\n",
       "       [0.49764575, 0.50235425],\n",
       "       [0.47389067, 0.52610933],\n",
       "       [0.80575461, 0.19424539]])"
      ]
     },
     "execution_count": 18,
     "metadata": {},
     "output_type": "execute_result"
    }
   ],
   "source": [
    "lr.predict_proba(X_test_std[:10, :])"
   ]
  },
  {
   "cell_type": "markdown",
   "metadata": {},
   "source": [
    "# Дерево классификации"
   ]
  },
  {
   "cell_type": "code",
   "execution_count": 19,
   "metadata": {
    "scrolled": true
   },
   "outputs": [
    {
     "data": {
      "image/png": "[encoded data removed]",
      "text/plain": [
       "<Figure size 432x288 with 1 Axes>"
      ]
     },
     "metadata": {
      "needs_background": "light"
     },
     "output_type": "display_data"
    }
   ],
   "source": [
    "# Построение стандартной модели дерева классификации\n",
    "\n",
    "from sklearn.tree import DecisionTreeClassifier\n",
    "\n",
    "tree = DecisionTreeClassifier(criterion='gini', \n",
    "                              max_depth=4, \n",
    "                              random_state=1)\n",
    "tree.fit(X_train, Y_train)\n",
    "\n",
    "X_combined = np.vstack((X_train, X_test))\n",
    "Y_combined = np.hstack((Y_train, Y_test))\n",
    "plot_decision_regions(X_combined, Y_combined, \n",
    "                      classifier=tree, test_idx=range(105, 150))\n",
    "\n",
    "plt.xlabel('Years of schooling [standardized]')\n",
    "plt.ylabel('Total out-of-school work experience [standardized]')\n",
    "plt.legend(loc='lower left')\n",
    "plt.tight_layout()\n",
    "\n",
    "plt.show()"
   ]
  },
  {
   "cell_type": "code",
   "execution_count": 21,
   "metadata": {
    "scrolled": true
   },
   "outputs": [
    {
     "data": {
      "image/png": "[encoded data removed]",
      "text/plain": [
       "<Figure size 432x288 with 1 Axes>"
      ]
     },
     "metadata": {
      "needs_background": "light"
     },
     "output_type": "display_data"
    }
   ],
   "source": [
    "# Построение модели дерева классификации \"случайный лес\"\n",
    "\n",
    "from sklearn.ensemble import RandomForestClassifier\n",
    "\n",
    "forest = RandomForestClassifier(criterion='gini',\n",
    "                                n_estimators=1000, \n",
    "                                random_state=1,\n",
    "                                n_jobs=2)\n",
    "forest.fit(X_train, Y_train)\n",
    "\n",
    "plot_decision_regions(X_combined, Y_combined, \n",
    "                      classifier=forest, test_idx=range(105, 150))\n",
    "\n",
    "plt.xlabel('Years of schooling [standardized]')\n",
    "plt.ylabel('Total out-of-school work experience [standardized]')\n",
    "plt.legend(loc='lower left')\n",
    "plt.tight_layout()\n",
    "\n",
    "plt.show()"
   ]
  },
  {
   "cell_type": "markdown",
   "metadata": {},
   "source": [
    "# Построение ROC-кривых (Receiver Operating Characteristic)"
   ]
  },
  {
   "cell_type": "code",
   "execution_count": 299,
   "metadata": {},
   "outputs": [
    {
     "data": {
      "text/plain": [
       "<Figure size 432x288 with 0 Axes>"
      ]
     },
     "metadata": {},
     "output_type": "display_data"
    },
    {
     "data": {
      "image/png": "[encoded data removed]",
      "text/plain": [
       "<Figure size 576x432 with 1 Axes>"
      ]
     },
     "metadata": {
      "needs_background": "light"
     },
     "output_type": "display_data"
    }
   ],
   "source": [
    "# Построение ROC-кривых построенных моделей на одной плоскостий\n",
    "\n",
    "import pylab as pl\n",
    "pl.clf()\n",
    "plt.figure(figsize=(8,6))\n",
    "\n",
    "lr.probability = True\n",
    "probas = lr.fit(X_train, Y_train).predict_proba(X_test)\n",
    "fpr, tpr, thresholds = roc_curve(Y_test, probas[:, 1])\n",
    "roc_auc  = auc(fpr, tpr)\n",
    "pl.plot(fpr, tpr, label='%s ROC (area = %0.2f)' % ('Logistic regression', roc_auc))\n",
    "\n",
    "probas = tree.fit(X_train, Y_train).predict_proba(X_test)\n",
    "fpr, tpr, thresholds = roc_curve(Y_test, probas[:, 1])\n",
    "roc_auc  = auc(fpr, tpr)\n",
    "pl.plot(fpr, tpr, label='%s ROC (area = %0.2f)' % ('RandonForest',roc_auc))\n",
    "\n",
    "probas = forest.fit(X_train, Y_train).predict_proba(X_test)\n",
    "fpr, tpr, thresholds = roc_curve(Y_test, probas[:, 1])\n",
    "roc_auc  = auc(fpr, tpr)\n",
    "pl.plot(fpr, tpr, label='%s ROC (area = %0.2f)' % ('Tree',roc_auc))\n",
    "pl.plot([0, 1], [0, 1], 'k--')\n",
    "pl.xlim([0.0, 1.0])\n",
    "pl.ylim([0.0, 1.0])\n",
    "pl.xlabel('False Positive Rate')\n",
    "pl.ylabel('True Positive Rate')\n",
    "pl.legend(loc=0, fontsize='small')\n",
    "pl.show()"
   ]
  },
  {
   "cell_type": "markdown",
   "metadata": {},
   "source": [
    "# Построение прогноза на тестовой выборке"
   ]
  },
  {
   "cell_type": "code",
   "execution_count": 22,
   "metadata": {},
   "outputs": [
    {
     "name": "stdout",
     "output_type": "stream",
     "text": [
      "[0 0 1 0 1 0 0 1 0 0 1 0 0 0 1 1 0 0 1 1 0 1 0 1 1 1 1 1 1 1 1 1 0 0 0 1 0\n",
      " 0 1 0 0 1 0 1 1 0 0 0 1 0 1 1 1 1 0 0 1 1 1 0 0 0 1 0 0 0 1 1 0 1 0 1 0 1\n",
      " 1 0 0 1 0 0 1 1 1 1 0 1 1 1 1 1 0 1 0 0 1 1 0 1 0 1 0 1 0 1 1 1 0 1 0 0 0\n",
      " 0 1 0 0 0 1 1 1 0 1 0 1 1 0 1 1 1 0 0 0 0 0 0 1 0 1 1 0 1 0 0 0 1 1 0 1 1\n",
      " 1 0 0 1 1 1 1 0 0 0 0 0 1 0 1 0 0 0 0 0 1 0 1 0 0 1 0 0 1 0 0 0 0 1 0 0 0\n",
      " 0 0 1 1 1 1 0 0 0 0 1 1 1 1 1 0 1 1 1 1 1 1 0 0 1 0 1 1 0 0 0 0 1 1 0 0 1\n",
      " 1 0 0 1 0 0 1 0 0 1 0 0 0 1 1 0 1 0 0 0 0 1 1 0 0 1 0 0 1 1 1 1 1 1 1 1 1\n",
      " 0 1 1 0 0 0 1 0 1 1 1 0 1 0 0 0 1 0 1 1 0 0 1 0 1 0 0 0 0 1 0 0 1 0 0 0 1\n",
      " 0 0 0 1 0 1 0 0 0 0 1 1 1 1 1 1 1 0 0 0 1 1 1 1 1 1 0 1 0 0 0 0 1 0 0 0 0\n",
      " 0 0 0 0 0 0 1 1 1 0 0 0 0 0 0 0 0 1 1 1 1 1 1 0 1 0 1 0 0 0 1 1 1 1 0 1 0\n",
      " 0 0 1 0 1 0 1 0 1 0 1 1 1 1 1 1 1 1 0 1 0 0 0 0 0 0 1 0 1 1 1 0 0 0 0 1 1\n",
      " 0 0 1 0 1 1 0 1 1 1 1 0 1 0 1 1 1 0 1 1 0 0 1 0 0 1 1 1 1 1 1 0 1 1 0 0 0\n",
      " 1 1 1 0 0 1 1 0 0 0 0 0 0 1 0 1 0 1 1 1 0 0 0 1 1 0 0 0 1 1 0 0 0 0 0 1 1\n",
      " 0 0 1 1 0 1 1 1 0 0 0 0 0 0 0 0 1 1 1 1 1 1 0 0 1 1 0 0 0 1 0 1 0 0 0 0 0\n",
      " 0 0 1 0 0 1 0 0 1 1 0 0 0 0 1 1 0 0 1 0 0 1]\n"
     ]
    }
   ],
   "source": [
    "# В качестве своего тестового набора для построения прогноза будет использоваться база данных другого варианта.\n",
    "# В качестве тестового варианта будет использоваться база Dougherty_data_1.csv.\n",
    "\n",
    "# Прогнозирование модели логистической регрессии\n",
    "Base2 = read_csv('Dougherty_data_1.csv', header=0, sep=';', decimal=',')\n",
    "Base2 = Base2.fillna(Base.median(axis=0), axis=0)\n",
    "\n",
    "test = np.array(Base2[[\"S\", 'W_EXP']])\n",
    "\n",
    "lr.fit(X, Y)\n",
    "result_new=lr.predict(test)\n",
    "print(result_new)"
   ]
  }
 ],
 "metadata": {
  "kernelspec": {
   "display_name": "Python 3",
   "language": "python",
   "name": "python3"
  },
  "language_info": {
   "codemirror_mode": {
    "name": "ipython",
    "version": 3
   },
   "file_extension": ".py",
   "mimetype": "text/x-python",
   "name": "python",
   "nbconvert_exporter": "python",
   "pygments_lexer": "ipython3",
   "version": "3.7.0"
  }
 },
 "nbformat": 4,
 "nbformat_minor": 2
}
